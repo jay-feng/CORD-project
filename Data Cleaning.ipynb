{
 "cells": [
  {
   "cell_type": "markdown",
   "metadata": {},
   "source": [
    "# Data Cleaning"
   ]
  },
  {
   "cell_type": "markdown",
   "metadata": {},
   "source": [
    "Create and export a df containing each paper ID (sha) and its correponding full text, as a string. This will be used in the COVID-19 Research Papers Text Extraction notebook to obtain the most \"important\" sentences in the relevant papers.\n"
   ]
  },
  {
   "cell_type": "code",
   "execution_count": 1,
   "metadata": {},
   "outputs": [],
   "source": [
    "import numpy as np\n",
    "import pandas as pd\n",
    "import json\n",
    "import itertools"
   ]
  },
  {
   "cell_type": "markdown",
   "metadata": {},
   "source": [
    "Split up metadata.csv into separate dfs based on licence type."
   ]
  },
  {
   "cell_type": "code",
   "execution_count": 2,
   "metadata": {
    "scrolled": false
   },
   "outputs": [],
   "source": [
    "df = pd.read_csv(\"data/metadata.csv\")\n",
    "df_with_full = df.loc[df['has_full_text'] == True].drop(columns = 'has_full_text')\n",
    "\n",
    "df_custom_license = df_with_full.loc[df_with_full['full_text_file'].str.match(\"custom_license\")]\n",
    "df_noncomm_use_subset = df_with_full.loc[df_with_full['full_text_file'].str.match(\"noncomm_use_subset\")]\n",
    "df_comm_use_subset = df_with_full.loc[df_with_full['full_text_file'].str.match(\"comm_use_subset\")]\n",
    "df_biorxiv_medrxiv = df_with_full.loc[df_with_full['full_text_file'].str.match(\"biorxiv_medrxiv\")]\n",
    "\n",
    "invalid_rows = []\n",
    "for index, row in df_custom_license.iterrows():\n",
    "    if \";\" in row['sha']:\n",
    "        invalid_rows.append(index)\n",
    "\n",
    "df_custom_license = df_custom_license.drop(invalid_rows)\n",
    "\n",
    "invalid_rows = []\n",
    "for index, row in df_noncomm_use_subset.iterrows():\n",
    "    if \";\" in row['sha']:\n",
    "        invalid_rows.append(index)\n",
    "        \n",
    "df_noncomm_use_subset = df_noncomm_use_subset.drop(invalid_rows)\n",
    "\n",
    "invalid_rows = []\n",
    "for index, row in df_comm_use_subset.iterrows():\n",
    "    if \";\" in row['sha']:\n",
    "        invalid_rows.append(index)\n",
    "        \n",
    "df_comm_use_subset = df_comm_use_subset.drop(invalid_rows)\n",
    "\n",
    "invalid_rows = []\n",
    "for index, row in df_biorxiv_medrxiv.iterrows():\n",
    "    if \";\" in row['sha']:\n",
    "        invalid_rows.append(index)\n",
    "        \n",
    "df_biorxiv_medrxiv = df_biorxiv_medrxiv.drop(invalid_rows)"
   ]
  },
  {
   "cell_type": "markdown",
   "metadata": {},
   "source": [
    "Define `json_to_body_string(body_json)`, which takes in the full text file of a paper (as a json) and returns all the body text as a string."
   ]
  },
  {
   "cell_type": "code",
   "execution_count": 42,
   "metadata": {},
   "outputs": [],
   "source": [
    "def json_to_body_string(body_json):\n",
    "    body_text = body_json[0][3]\n",
    "    body_text_json = json.dumps(body_text)\n",
    "    body_text_df = pd.read_json(StringIO(body_text_json), orient=\"records\")\n",
    "    body_string = \"\"\n",
    "    for i in np.arange(len(body_text_df)):\n",
    "        if (isinstance(body_text_df[\"text\"][i], str)):\n",
    "            body_string = body_string + \" \" + body_text_df[\"text\"][i]\n",
    "        else:\n",
    "            not_strings.append(type(body_text_df[\"text\"][i]))\n",
    "    return body_string"
   ]
  },
  {
   "cell_type": "markdown",
   "metadata": {},
   "source": [
    "Define `compile_full_texts(df_license, license_type)`, which takes in\n",
    "- df_license (one of the four license dfs) and\n",
    "- license_type (its license type as a string)  \n",
    "\n",
    "and adds the contents of each paper into full_texts_dict."
   ]
  },
  {
   "cell_type": "code",
   "execution_count": 43,
   "metadata": {},
   "outputs": [],
   "source": [
    "def compile_full_texts(df_license, license_type):\n",
    "    for i in df_license[\"sha\"]:\n",
    "        temp_json = pd.read_json(\"data/\" + license_type +\n",
    "                                 \"/\" + license_type + \"/\" + i + \".json\", orient=\"index\")\n",
    "        full_text_string = json_to_body_string(temp_json)\n",
    "        full_texts_dict[i] = full_text_string"
   ]
  },
  {
   "cell_type": "code",
   "execution_count": 5,
   "metadata": {},
   "outputs": [],
   "source": [
    "# full_texts_dict = {}\n",
    "# not_strings = []\n",
    "# for i in df_custom_license[\"sha\"]:\n",
    "#     temp_json = pd.read_json(\"CORD-19-research-challenge/custom_license/custom_license/\" + i + \".json\", orient=\"index\")\n",
    "#     full_text_string = json_to_body_string(temp_json)\n",
    "#     full_texts_dict[i] = full_text_string"
   ]
  },
  {
   "cell_type": "markdown",
   "metadata": {},
   "source": [
    "Compile the full texts into the dictionary full_texts_dict, which contains each paper sha mapped to its\n",
    "contents as a string"
   ]
  },
  {
   "cell_type": "code",
   "execution_count": 44,
   "metadata": {
    "scrolled": true
   },
   "outputs": [],
   "source": [
    "full_texts_dict = {}\n",
    "not_strings = []\n",
    "compile_full_texts(df_custom_license, \"custom_license\")\n",
    "compile_full_texts(df_noncomm_use_subset, \"noncomm_use_subset\")\n",
    "compile_full_texts(df_comm_use_subset, \"comm_use_subset\")\n",
    "compile_full_texts(df_biorxiv_medrxiv, \"biorxiv_medrxiv\")"
   ]
  },
  {
   "cell_type": "code",
   "execution_count": 45,
   "metadata": {},
   "outputs": [
    {
     "data": {
      "text/plain": [
       "27678"
      ]
     },
     "execution_count": 45,
     "metadata": {},
     "output_type": "execute_result"
    }
   ],
   "source": [
    "len(full_texts_dict)"
   ]
  },
  {
   "cell_type": "code",
   "execution_count": 46,
   "metadata": {},
   "outputs": [
    {
     "data": {
      "text/html": [
       "<div>\n",
       "<style scoped>\n",
       "    .dataframe tbody tr th:only-of-type {\n",
       "        vertical-align: middle;\n",
       "    }\n",
       "\n",
       "    .dataframe tbody tr th {\n",
       "        vertical-align: top;\n",
       "    }\n",
       "\n",
       "    .dataframe thead th {\n",
       "        text-align: right;\n",
       "    }\n",
       "</style>\n",
       "<table border=\"1\" class=\"dataframe\">\n",
       "  <thead>\n",
       "    <tr style=\"text-align: right;\">\n",
       "      <th></th>\n",
       "      <th>0</th>\n",
       "    </tr>\n",
       "  </thead>\n",
       "  <tbody>\n",
       "    <tr>\n",
       "      <th>aecbc613ebdab36753235197ffb4f35734b5ca63</th>\n",
       "      <td>The patient (Fo, ) was a 58 year old mentally...</td>\n",
       "    </tr>\n",
       "    <tr>\n",
       "      <th>212e990b378e8d267042753d5f9d4a64ea5e9869</th>\n",
       "      <td>Pathogenesis and Risk Factors J. ROBERT CANTE...</td>\n",
       "    </tr>\n",
       "    <tr>\n",
       "      <th>bf5d344243153d58be692ceb26f52c08e2bd2d2f</th>\n",
       "      <td>In the pathogenesis of rheumatoid arthritis, ...</td>\n",
       "    </tr>\n",
       "    <tr>\n",
       "      <th>ddd2ecf42ec86ad66072962081e1ce4594431f9c</th>\n",
       "      <td>Respiratory Tract Infections JERROLD J. ELLNE...</td>\n",
       "    </tr>\n",
       "    <tr>\n",
       "      <th>a55cb4e724091ced46b5e55b982a14525eea1c7e</th>\n",
       "      <td>A cute bronchitis, an illness frequently enco...</td>\n",
       "    </tr>\n",
       "  </tbody>\n",
       "</table>\n",
       "</div>"
      ],
      "text/plain": [
       "                                                                                          0\n",
       "aecbc613ebdab36753235197ffb4f35734b5ca63   The patient (Fo, ) was a 58 year old mentally...\n",
       "212e990b378e8d267042753d5f9d4a64ea5e9869   Pathogenesis and Risk Factors J. ROBERT CANTE...\n",
       "bf5d344243153d58be692ceb26f52c08e2bd2d2f   In the pathogenesis of rheumatoid arthritis, ...\n",
       "ddd2ecf42ec86ad66072962081e1ce4594431f9c   Respiratory Tract Infections JERROLD J. ELLNE...\n",
       "a55cb4e724091ced46b5e55b982a14525eea1c7e   A cute bronchitis, an illness frequently enco..."
      ]
     },
     "execution_count": 46,
     "metadata": {},
     "output_type": "execute_result"
    }
   ],
   "source": [
    "dict_df = pd.DataFrame.from_dict(full_texts_dict, orient='index')\n",
    "dict_df.head()"
   ]
  },
  {
   "cell_type": "code",
   "execution_count": 47,
   "metadata": {},
   "outputs": [],
   "source": [
    "dict_df.to_csv(\"full_texts.csv\")"
   ]
  },
  {
   "cell_type": "code",
   "execution_count": null,
   "metadata": {},
   "outputs": [],
   "source": []
  }
 ],
 "metadata": {
  "kernelspec": {
   "display_name": "Python 3",
   "language": "python",
   "name": "python3"
  },
  "language_info": {
   "codemirror_mode": {
    "name": "ipython",
    "version": 3
   },
   "file_extension": ".py",
   "mimetype": "text/x-python",
   "name": "python",
   "nbconvert_exporter": "python",
   "pygments_lexer": "ipython3",
   "version": "3.8.3"
  }
 },
 "nbformat": 4,
 "nbformat_minor": 2
}
