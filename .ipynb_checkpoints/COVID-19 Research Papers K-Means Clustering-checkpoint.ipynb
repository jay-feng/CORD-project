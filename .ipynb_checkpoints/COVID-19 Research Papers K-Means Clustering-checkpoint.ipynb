{
 "cells": [
  {
   "cell_type": "code",
   "execution_count": 63,
   "metadata": {},
   "outputs": [],
   "source": [
    "import numpy as np\n",
    "import pandas as pd\n",
    "import matplotlib.pyplot as plt\n",
    "import matplotlib.cm as cm\n",
    "\n",
    "from sklearn.feature_extraction.text import TfidfVectorizer\n",
    "from sklearn.cluster import KMeans\n",
    "\n",
    "from sklearn.cluster import MiniBatchKMeans\n",
    "from sklearn.decomposition import PCA\n",
    "from sklearn.manifold import TSNE\n",
    "\n",
    "import nltk\n",
    "from nltk.stem.snowball import SnowballStemmer\n",
    "\n",
    "import re"
   ]
  },
  {
   "cell_type": "markdown",
   "metadata": {},
   "source": [
    "# COVID-19 Research Paper K-Means Clustering"
   ]
  },
  {
   "cell_type": "markdown",
   "metadata": {},
   "source": [
    "- Read in the metadata csv, select only the papers with full texts available.\n",
    "- Split the df into four dfs according to the license type, so its easier to find the corresponding full text file\n",
    "- Drops rows where the \"sha\" corresponds to more than one full text file\n"
   ]
  },
  {
   "cell_type": "code",
   "execution_count": 45,
   "metadata": {
    "scrolled": false
   },
   "outputs": [],
   "source": [
    "\"\"\"Convert metadata.csv to a df_abstracts, which contains the sha and abstracts of every valid paper.\n",
    "-read in metadata.csv to a df\n",
    "-filter out rows without a full text file\n",
    "-filter out rows with multiple corresponding full text files\n",
    "-create df_abstracts, which contains sha and abstracts for all valid papers\n",
    "\"\"\"\n",
    "\n",
    "df = pd.read_csv(\"CORD-19-research-challenge/metadata.csv\")\n",
    "df_with_full = df.loc[df['has_full_text'] == True].drop(columns = 'has_full_text')\n",
    "\n",
    "df_custom_license = df_with_full.loc[df_with_full['full_text_file'].str.match(\"custom_license\")]\n",
    "df_noncomm_use_subset = df_with_full.loc[df_with_full['full_text_file'].str.match(\"noncomm_use_subset\")]\n",
    "df_comm_use_subset = df_with_full.loc[df_with_full['full_text_file'].str.match(\"comm_use_subset\")]\n",
    "df_biorxiv_medrxiv = df_with_full.loc[df_with_full['full_text_file'].str.match(\"biorxiv_medrxiv\")]\n",
    "\n",
    "invalid_rows = []\n",
    "for index, row in df_custom_license.iterrows():\n",
    "    if \";\" in row['sha']:\n",
    "        invalid_rows.append(index)\n",
    "\n",
    "df_custom_license = df_custom_license.drop(invalid_rows)\n",
    "\n",
    "invalid_rows = []\n",
    "for index, row in df_noncomm_use_subset.iterrows():\n",
    "    if \";\" in row['sha']:\n",
    "        invalid_rows.append(index)\n",
    "        \n",
    "df_noncomm_use_subset = df_noncomm_use_subset.drop(invalid_rows)\n",
    "\n",
    "invalid_rows = []\n",
    "for index, row in df_comm_use_subset.iterrows():\n",
    "    if \";\" in row['sha']:\n",
    "        invalid_rows.append(index)\n",
    "        \n",
    "df_comm_use_subset = df_comm_use_subset.drop(invalid_rows)\n",
    "\n",
    "invalid_rows = []\n",
    "for index, row in df_biorxiv_medrxiv.iterrows():\n",
    "    if \";\" in row['sha']:\n",
    "        invalid_rows.append(index)\n",
    "        \n",
    "df_biorxiv_medrxiv = df_biorxiv_medrxiv.drop(invalid_rows)\n",
    "\n",
    "df_all = pd.concat([df_custom_license, df_noncomm_use_subset, df_comm_use_subset, df_biorxiv_medrxiv])\n",
    "\n",
    "df_abstracts = df_all[['sha','abstract']]\n",
    "\n",
    "df_abstracts.to_csv(\"abstracts.csv\")"
   ]
  },
  {
   "cell_type": "code",
   "execution_count": 46,
   "metadata": {
    "scrolled": true
   },
   "outputs": [],
   "source": [
    "\"\"\"Take sample of rows from df_abstracts to reduce runtime\"\"\"\n",
    "\n",
    "df_abstracts_partial = df_abstracts.sample(n=10000)\n",
    "df_abstracts_partial = df_abstracts_partial.dropna()"
   ]
  },
  {
   "cell_type": "code",
   "execution_count": 47,
   "metadata": {
    "scrolled": true
   },
   "outputs": [
    {
     "data": {
      "text/plain": [
       "list"
      ]
     },
     "execution_count": 47,
     "metadata": {},
     "output_type": "execute_result"
    }
   ],
   "source": [
    "\"\"\"Remove rows with bad input in abstract column\"\"\"\n",
    "\n",
    "abstract_list = df_abstracts_partial[\"abstract\"].values\n",
    "abstract_list = [x for x in abstract_list if str(x) != 'nan']\n",
    "type(abstract_list)"
   ]
  },
  {
   "cell_type": "code",
   "execution_count": 48,
   "metadata": {},
   "outputs": [
    {
     "data": {
      "text/plain": [
       "0"
      ]
     },
     "execution_count": 48,
     "metadata": {},
     "output_type": "execute_result"
    }
   ],
   "source": [
    "\"\"\"Check to make sure all abstract values are strings\"\"\"\n",
    "\n",
    "bad_inputs = 0\n",
    "for i in abstract_list:\n",
    "    if type(i) != str:\n",
    "        bad_inputs += 1\n",
    "bad_inputs"
   ]
  },
  {
   "cell_type": "code",
   "execution_count": 49,
   "metadata": {},
   "outputs": [],
   "source": [
    "\"\"\" Takes in abstract_list, returns abstract_list_stemmed, which contains the same list\n",
    "of strings but with each word converted to reduce variability\n",
    "\"\"\"\n",
    "\n",
    "snowBallStemmer = SnowballStemmer(\"english\")\n",
    "\n",
    "abstract_list_stemmed = []\n",
    "\n",
    "# adapted from http://jonathansoma.com/lede/algorithms-2017/classes/more-text-analysis/counting-and-stemming/\n",
    "def stemming_tokenizer(str_input):\n",
    "    words = re.sub(r\"[^A-Za-z0-9\\-]\", \" \", str_input).lower().split()\n",
    "    words = [snowBallStemmer.stem(word) for word in words]\n",
    "    return words\n",
    "\n",
    "for i in abstract_list:\n",
    "    words_list = stemming_tokenizer(i)\n",
    "    words_paragraph = \"\"\n",
    "    for j in words_list:\n",
    "        words_paragraph = words_paragraph + \" \" + j\n",
    "    abstract_list_stemmed.append(words_paragraph)"
   ]
  },
  {
   "cell_type": "code",
   "execution_count": 50,
   "metadata": {
    "scrolled": true
   },
   "outputs": [],
   "source": [
    "\"\"\"Creares a df of TFIDF vectorized abstracts\n",
    "\n",
    "TF-IDF (term frequency-inverse document frequency) is a statistical\n",
    "measure that evaluates how relevant a word is to a document in a collection.\n",
    "\n",
    "adapted from https://towardsdatascience.com/natural-language-processing-feature-engineering-using-tf-idf-e8b9d00e7e76\n",
    "\n",
    "token_pattern=r'(?u)\\b[A-Za-z]+\\b' filters out non-alphabetical characters\n",
    "\"\"\"\n",
    "\n",
    "vectorizer = TfidfVectorizer(min_df = 5, max_df = 0.95, max_features = 150, stop_words = 'english', token_pattern=r'(?u)\\b[A-Za-z]+\\b')\n",
    "vectors = vectorizer.fit_transform(abstract_list_stemmed)\n",
    "feature_names = vectorizer.get_feature_names()\n",
    "dense = vectors.todense()\n",
    "denselist = dense.tolist()\n",
    "df = pd.DataFrame(denselist, columns=feature_names)"
   ]
  },
  {
   "cell_type": "code",
   "execution_count": 51,
   "metadata": {
    "scrolled": true
   },
   "outputs": [
    {
     "data": {
      "text/plain": [
       "Index(['abstract', 'acid', 'activ', 'acut', 'addit', 'age', 'agent', 'analysi',\n",
       "       'anim', 'antibodi',\n",
       "       ...\n",
       "       'test', 'time', 'transmiss', 'treatment', 'type', 'use', 'vaccin',\n",
       "       'viral', 'virus', 'year'],\n",
       "      dtype='object', length=150)"
      ]
     },
     "execution_count": 51,
     "metadata": {},
     "output_type": "execute_result"
    }
   ],
   "source": [
    "\"\"\"100 most relevant features\"\"\"\n",
    "\n",
    "(df.columns)"
   ]
  },
  {
   "cell_type": "code",
   "execution_count": 55,
   "metadata": {
    "scrolled": true
   },
   "outputs": [
    {
     "data": {
      "image/png": "[encoded data removed]",
      "text/plain": [
       "<Figure size 432x288 with 1 Axes>"
      ]
     },
     "metadata": {
      "needs_background": "light"
     },
     "output_type": "display_data"
    }
   ],
   "source": [
    "\"\"\"Creates an elbow plot to identify the ideal number of clusters based on sum of squared errors\n",
    "\n",
    "copied from https://www.kaggle.com/jbencina/clustering-documents-with-tfidf-and-kmeans\n",
    "\"\"\"\n",
    "\n",
    "def find_optimal_clusters(data, max_k):\n",
    "    iters = range(2, max_k+1, 2)\n",
    "    \n",
    "    sse = []\n",
    "    for k in iters:\n",
    "        sse.append(MiniBatchKMeans(n_clusters=k, init_size=1024, batch_size=2048, random_state=20).fit(data).inertia_)\n",
    "        #print('Fit {} clusters'.format(k))\n",
    "        \n",
    "    f, ax = plt.subplots(1, 1)\n",
    "    ax.plot(iters, sse, marker='o')\n",
    "    ax.set_xlabel('Cluster Centers')\n",
    "    ax.set_xticks(iters)\n",
    "    ax.set_xticklabels(iters)\n",
    "    ax.set_ylabel('SSE')\n",
    "    ax.set_title('SSE by Cluster Center Plot')\n",
    "    \n",
    "find_optimal_clusters(df, 40)"
   ]
  },
  {
   "cell_type": "code",
   "execution_count": 53,
   "metadata": {},
   "outputs": [
    {
     "data": {
      "text/plain": [
       "OrderedDict([('interact', 0.7363871743393146),\n",
       "             ('mechan', 0.3372456895966535),\n",
       "             ('drug', 0.1984919690879682),\n",
       "             ('use', 0.1950427656010587),\n",
       "             ('protect', 0.1905148216352759),\n",
       "             ('rna', 0.17474848044431174),\n",
       "             ('common', 0.17295867684077856),\n",
       "             ('review', 0.16477674855097274),\n",
       "             ('time', 0.16117723822477628),\n",
       "             ('potenti', 0.14868673923096903),\n",
       "             ('clinic', 0.1470298788024448),\n",
       "             ('control', 0.1457387071018643),\n",
       "             ('specif', 0.13878424262301445),\n",
       "             ('abstract', 0.10999308137703427),\n",
       "             ('result', 0.10292574883459484),\n",
       "             ('studi', 0.09880720821751128),\n",
       "             ('acid', 0.0),\n",
       "             ('activ', 0.0),\n",
       "             ('acut', 0.0),\n",
       "             ('addit', 0.0),\n",
       "             ('age', 0.0),\n",
       "             ('agent', 0.0),\n",
       "             ('analysi', 0.0),\n",
       "             ('anim', 0.0),\n",
       "             ('antibodi', 0.0),\n",
       "             ('antigen', 0.0),\n",
       "             ('antivir', 0.0),\n",
       "             ('assay', 0.0),\n",
       "             ('associ', 0.0),\n",
       "             ('b', 0.0),\n",
       "             ('background', 0.0),\n",
       "             ('base', 0.0),\n",
       "             ('bind', 0.0),\n",
       "             ('c', 0.0),\n",
       "             ('case', 0.0),\n",
       "             ('caus', 0.0),\n",
       "             ('cell', 0.0),\n",
       "             ('chang', 0.0),\n",
       "             ('children', 0.0),\n",
       "             ('compar', 0.0),\n",
       "             ('conclus', 0.0),\n",
       "             ('coronavirus', 0.0),\n",
       "             ('cov', 0.0),\n",
       "             ('current', 0.0),\n",
       "             ('data', 0.0),\n",
       "             ('day', 0.0),\n",
       "             ('demonstr', 0.0),\n",
       "             ('detect', 0.0),\n",
       "             ('determin', 0.0),\n",
       "             ('develop', 0.0),\n",
       "             ('differ', 0.0),\n",
       "             ('diseas', 0.0),\n",
       "             ('dure', 0.0),\n",
       "             ('e', 0.0),\n",
       "             ('effect', 0.0),\n",
       "             ('emerg', 0.0),\n",
       "             ('epidem', 0.0),\n",
       "             ('evalu', 0.0),\n",
       "             ('express', 0.0),\n",
       "             ('factor', 0.0),\n",
       "             ('follow', 0.0),\n",
       "             ('function', 0.0),\n",
       "             ('gene', 0.0),\n",
       "             ('genom', 0.0),\n",
       "             ('group', 0.0),\n",
       "             ('health', 0.0),\n",
       "             ('high', 0.0),\n",
       "             ('hospit', 0.0),\n",
       "             ('host', 0.0),\n",
       "             ('howev', 0.0),\n",
       "             ('human', 0.0),\n",
       "             ('identifi', 0.0),\n",
       "             ('ifn', 0.0),\n",
       "             ('immun', 0.0),\n",
       "             ('import', 0.0),\n",
       "             ('improv', 0.0),\n",
       "             ('includ', 0.0),\n",
       "             ('increas', 0.0),\n",
       "             ('indic', 0.0),\n",
       "             ('induc', 0.0),\n",
       "             ('infect', 0.0),\n",
       "             ('infecti', 0.0),\n",
       "             ('influenza', 0.0),\n",
       "             ('inhibit', 0.0),\n",
       "             ('investig', 0.0),\n",
       "             ('isol', 0.0),\n",
       "             ('level', 0.0),\n",
       "             ('m', 0.0),\n",
       "             ('major', 0.0),\n",
       "             ('mers', 0.0),\n",
       "             ('method', 0.0),\n",
       "             ('mice', 0.0),\n",
       "             ('model', 0.0),\n",
       "             ('n', 0.0),\n",
       "             ('new', 0.0),\n",
       "             ('non', 0.0),\n",
       "             ('novel', 0.0),\n",
       "             ('number', 0.0),\n",
       "             ('observ', 0.0),\n",
       "             ('onli', 0.0),\n",
       "             ('outbreak', 0.0),\n",
       "             ('p', 0.0),\n",
       "             ('pathogen', 0.0),\n",
       "             ('patient', 0.0),\n",
       "             ('pcr', 0.0),\n",
       "             ('perform', 0.0),\n",
       "             ('popul', 0.0),\n",
       "             ('posit', 0.0),\n",
       "             ('present', 0.0),\n",
       "             ('prevent', 0.0),\n",
       "             ('process', 0.0),\n",
       "             ('product', 0.0),\n",
       "             ('protein', 0.0),\n",
       "             ('provid', 0.0),\n",
       "             ('public', 0.0),\n",
       "             ('rate', 0.0),\n",
       "             ('recent', 0.0),\n",
       "             ('reduc', 0.0),\n",
       "             ('region', 0.0),\n",
       "             ('relat', 0.0),\n",
       "             ('replic', 0.0),\n",
       "             ('report', 0.0),\n",
       "             ('requir', 0.0),\n",
       "             ('research', 0.0),\n",
       "             ('respect', 0.0),\n",
       "             ('respiratori', 0.0),\n",
       "             ('respons', 0.0),\n",
       "             ('risk', 0.0),\n",
       "             ('role', 0.0),\n",
       "             ('s', 0.0),\n",
       "             ('sampl', 0.0),\n",
       "             ('sar', 0.0),\n",
       "             ('sars', 0.0),\n",
       "             ('sequenc', 0.0),\n",
       "             ('sever', 0.0),\n",
       "             ('signific', 0.0),\n",
       "             ('strain', 0.0),\n",
       "             ('structur', 0.0),\n",
       "             ('suggest', 0.0),\n",
       "             ('syndrom', 0.0),\n",
       "             ('t', 0.0),\n",
       "             ('target', 0.0),\n",
       "             ('test', 0.0),\n",
       "             ('transmiss', 0.0),\n",
       "             ('treatment', 0.0),\n",
       "             ('type', 0.0),\n",
       "             ('vaccin', 0.0),\n",
       "             ('viral', 0.0),\n",
       "             ('virus', 0.0),\n",
       "             ('year', 0.0)])"
      ]
     },
     "execution_count": 53,
     "metadata": {},
     "output_type": "execute_result"
    }
   ],
   "source": [
    "\"\"\"Displays an example of the TFIDF vector for a single paper\"\"\"\n",
    "\n",
    "row_dict = df.loc[ 0 , : ].to_dict()\n",
    "\n",
    "from collections import OrderedDict\n",
    "\n",
    "dd = OrderedDict(sorted(row_dict.items(), key=lambda x: x[1], reverse=True))\n",
    "dd"
   ]
  },
  {
   "cell_type": "code",
   "execution_count": 57,
   "metadata": {
    "scrolled": true
   },
   "outputs": [
    {
     "data": {
      "text/html": [
       "<div>\n",
       "<style scoped>\n",
       "    .dataframe tbody tr th:only-of-type {\n",
       "        vertical-align: middle;\n",
       "    }\n",
       "\n",
       "    .dataframe tbody tr th {\n",
       "        vertical-align: top;\n",
       "    }\n",
       "\n",
       "    .dataframe thead th {\n",
       "        text-align: right;\n",
       "    }\n",
       "</style>\n",
       "<table border=\"1\" class=\"dataframe\">\n",
       "  <thead>\n",
       "    <tr style=\"text-align: right;\">\n",
       "      <th></th>\n",
       "      <th>sha</th>\n",
       "      <th>abstract</th>\n",
       "      <th>cluster</th>\n",
       "    </tr>\n",
       "  </thead>\n",
       "  <tbody>\n",
       "    <tr>\n",
       "      <td>8215</td>\n",
       "      <td>8cdef8032be07bd4d378689ea438e7eca25b8620</td>\n",
       "      <td>Abstract The majority of lymphocytes activated...</td>\n",
       "      <td>0</td>\n",
       "    </tr>\n",
       "    <tr>\n",
       "      <td>27949</td>\n",
       "      <td>709c30173f5cfdd55b8636f71cf76d3788a0553d</td>\n",
       "      <td>RATIONALE: Pneumocystis jirovecii causes sever...</td>\n",
       "      <td>0</td>\n",
       "    </tr>\n",
       "    <tr>\n",
       "      <td>40934</td>\n",
       "      <td>684dc6fccb8e9d754f09076c6a122bc0eead903f</td>\n",
       "      <td>Recent successes with monoclonal antibody cock...</td>\n",
       "      <td>0</td>\n",
       "    </tr>\n",
       "    <tr>\n",
       "      <td>41654</td>\n",
       "      <td>244a3bd441bc1a9400a8529ed9933ae8a1f8d00a</td>\n",
       "      <td>We investigated the kinetics of the Middle Eas...</td>\n",
       "      <td>0</td>\n",
       "    </tr>\n",
       "    <tr>\n",
       "      <td>17406</td>\n",
       "      <td>4e9565f46be73148924009804105f82dc6f8fd65</td>\n",
       "      <td>Abstract The newborn calf's gastrointestinal t...</td>\n",
       "      <td>0</td>\n",
       "    </tr>\n",
       "    <tr>\n",
       "      <td>...</td>\n",
       "      <td>...</td>\n",
       "      <td>...</td>\n",
       "      <td>...</td>\n",
       "    </tr>\n",
       "    <tr>\n",
       "      <td>24199</td>\n",
       "      <td>442c4cc45848e962be501bd21f5484df9d547ce1</td>\n",
       "      <td>Grouper aquaculture around Asia is impacted by...</td>\n",
       "      <td>14</td>\n",
       "    </tr>\n",
       "    <tr>\n",
       "      <td>9628</td>\n",
       "      <td>f76eee70ed4e1fe1af3ba1a21c10940883c1d83f</td>\n",
       "      <td>Abstract Infectious myonecrosis virus (IMNV) i...</td>\n",
       "      <td>14</td>\n",
       "    </tr>\n",
       "    <tr>\n",
       "      <td>23163</td>\n",
       "      <td>9c5447c495379f968aacd114e73a03039ccfd69d</td>\n",
       "      <td>BACKGROUND: Porcine epidemic diarrhea virus (P...</td>\n",
       "      <td>14</td>\n",
       "    </tr>\n",
       "    <tr>\n",
       "      <td>10568</td>\n",
       "      <td>60fb415448e3e5ade068e2e7bbb29665d5bbba79</td>\n",
       "      <td>Abstract Two α-helical antimicrobial peptides ...</td>\n",
       "      <td>14</td>\n",
       "    </tr>\n",
       "    <tr>\n",
       "      <td>19799</td>\n",
       "      <td>ad7c54f9cbd1779ce878360e15699bebcbd80cd6</td>\n",
       "      <td>BACKGROUND: Rotavirus (RV), is a member of the...</td>\n",
       "      <td>14</td>\n",
       "    </tr>\n",
       "  </tbody>\n",
       "</table>\n",
       "<p>8672 rows × 3 columns</p>\n",
       "</div>"
      ],
      "text/plain": [
       "                                            sha  \\\n",
       "8215   8cdef8032be07bd4d378689ea438e7eca25b8620   \n",
       "27949  709c30173f5cfdd55b8636f71cf76d3788a0553d   \n",
       "40934  684dc6fccb8e9d754f09076c6a122bc0eead903f   \n",
       "41654  244a3bd441bc1a9400a8529ed9933ae8a1f8d00a   \n",
       "17406  4e9565f46be73148924009804105f82dc6f8fd65   \n",
       "...                                         ...   \n",
       "24199  442c4cc45848e962be501bd21f5484df9d547ce1   \n",
       "9628   f76eee70ed4e1fe1af3ba1a21c10940883c1d83f   \n",
       "23163  9c5447c495379f968aacd114e73a03039ccfd69d   \n",
       "10568  60fb415448e3e5ade068e2e7bbb29665d5bbba79   \n",
       "19799  ad7c54f9cbd1779ce878360e15699bebcbd80cd6   \n",
       "\n",
       "                                                abstract  cluster  \n",
       "8215   Abstract The majority of lymphocytes activated...        0  \n",
       "27949  RATIONALE: Pneumocystis jirovecii causes sever...        0  \n",
       "40934  Recent successes with monoclonal antibody cock...        0  \n",
       "41654  We investigated the kinetics of the Middle Eas...        0  \n",
       "17406  Abstract The newborn calf's gastrointestinal t...        0  \n",
       "...                                                  ...      ...  \n",
       "24199  Grouper aquaculture around Asia is impacted by...       14  \n",
       "9628   Abstract Infectious myonecrosis virus (IMNV) i...       14  \n",
       "23163  BACKGROUND: Porcine epidemic diarrhea virus (P...       14  \n",
       "10568  Abstract Two α-helical antimicrobial peptides ...       14  \n",
       "19799  BACKGROUND: Rotavirus (RV), is a member of the...       14  \n",
       "\n",
       "[8672 rows x 3 columns]"
      ]
     },
     "execution_count": 57,
     "metadata": {},
     "output_type": "execute_result"
    }
   ],
   "source": [
    "\"\"\"Adds assigned cluster cloumn to df_partial_abstracts.\"\"\"\n",
    "\n",
    "clusters = MiniBatchKMeans(n_clusters=15, init_size=1024, batch_size=2048, random_state=20).fit_predict(df)\n",
    "\n",
    "df_abstracts_partial[\"cluster\"] = clusters\n",
    "df_abstracts_partial.sort_values(\"cluster\")"
   ]
  },
  {
   "cell_type": "code",
   "execution_count": 78,
   "metadata": {
    "scrolled": false
   },
   "outputs": [
    {
     "ename": "TypeError",
     "evalue": "'(array([7833, 8642, 8398, ...,  518, 4973, 6022]),)' is an invalid key",
     "output_type": "error",
     "traceback": [
      "\u001b[0;31m---------------------------------------------------------------------------\u001b[0m",
      "\u001b[0;31mTypeError\u001b[0m                                 Traceback (most recent call last)",
      "\u001b[0;32m<ipython-input-78-08a276520a64>\u001b[0m in \u001b[0;36m<module>\u001b[0;34m\u001b[0m\n\u001b[1;32m     19\u001b[0m     \u001b[0max\u001b[0m\u001b[0;34m[\u001b[0m\u001b[0;36m1\u001b[0m\u001b[0;34m]\u001b[0m\u001b[0;34m.\u001b[0m\u001b[0mset_title\u001b[0m\u001b[0;34m(\u001b[0m\u001b[0;34m'TSNE Cluster Plot'\u001b[0m\u001b[0;34m)\u001b[0m\u001b[0;34m\u001b[0m\u001b[0;34m\u001b[0m\u001b[0m\n\u001b[1;32m     20\u001b[0m \u001b[0;34m\u001b[0m\u001b[0m\n\u001b[0;32m---> 21\u001b[0;31m \u001b[0mplot_tsne_pca\u001b[0m\u001b[0;34m(\u001b[0m\u001b[0mdf\u001b[0m\u001b[0;34m,\u001b[0m \u001b[0mclusters\u001b[0m\u001b[0;34m)\u001b[0m\u001b[0;34m\u001b[0m\u001b[0;34m\u001b[0m\u001b[0m\n\u001b[0m",
      "\u001b[0;32m<ipython-input-78-08a276520a64>\u001b[0m in \u001b[0;36mplot_tsne_pca\u001b[0;34m(data, labels)\u001b[0m\n\u001b[1;32m      3\u001b[0m     \u001b[0mmax_items\u001b[0m \u001b[0;34m=\u001b[0m \u001b[0mnp\u001b[0m\u001b[0;34m.\u001b[0m\u001b[0mrandom\u001b[0m\u001b[0;34m.\u001b[0m\u001b[0mchoice\u001b[0m\u001b[0;34m(\u001b[0m\u001b[0mrange\u001b[0m\u001b[0;34m(\u001b[0m\u001b[0mdata\u001b[0m\u001b[0;34m.\u001b[0m\u001b[0mshape\u001b[0m\u001b[0;34m[\u001b[0m\u001b[0;36m0\u001b[0m\u001b[0;34m]\u001b[0m\u001b[0;34m)\u001b[0m\u001b[0;34m,\u001b[0m \u001b[0msize\u001b[0m\u001b[0;34m=\u001b[0m\u001b[0;36m3000\u001b[0m\u001b[0;34m,\u001b[0m \u001b[0mreplace\u001b[0m\u001b[0;34m=\u001b[0m\u001b[0;32mFalse\u001b[0m\u001b[0;34m)\u001b[0m\u001b[0;34m\u001b[0m\u001b[0;34m\u001b[0m\u001b[0m\n\u001b[1;32m      4\u001b[0m \u001b[0;34m\u001b[0m\u001b[0m\n\u001b[0;32m----> 5\u001b[0;31m     \u001b[0mpca\u001b[0m \u001b[0;34m=\u001b[0m \u001b[0mPCA\u001b[0m\u001b[0;34m(\u001b[0m\u001b[0mn_components\u001b[0m\u001b[0;34m=\u001b[0m\u001b[0;36m2\u001b[0m\u001b[0;34m)\u001b[0m\u001b[0;34m.\u001b[0m\u001b[0mfit_transform\u001b[0m\u001b[0;34m(\u001b[0m\u001b[0mdata\u001b[0m\u001b[0;34m[\u001b[0m\u001b[0mmax_items\u001b[0m\u001b[0;34m,\u001b[0m\u001b[0;34m]\u001b[0m\u001b[0;34m.\u001b[0m\u001b[0mtodense\u001b[0m\u001b[0;34m(\u001b[0m\u001b[0;34m)\u001b[0m\u001b[0;34m)\u001b[0m\u001b[0;34m\u001b[0m\u001b[0;34m\u001b[0m\u001b[0m\n\u001b[0m\u001b[1;32m      6\u001b[0m     \u001b[0mtsne\u001b[0m \u001b[0;34m=\u001b[0m \u001b[0mTSNE\u001b[0m\u001b[0;34m(\u001b[0m\u001b[0;34m)\u001b[0m\u001b[0;34m.\u001b[0m\u001b[0mfit_transform\u001b[0m\u001b[0;34m(\u001b[0m\u001b[0mPCA\u001b[0m\u001b[0;34m(\u001b[0m\u001b[0mn_components\u001b[0m\u001b[0;34m=\u001b[0m\u001b[0;36m50\u001b[0m\u001b[0;34m)\u001b[0m\u001b[0;34m.\u001b[0m\u001b[0mfit_transform\u001b[0m\u001b[0;34m(\u001b[0m\u001b[0mdata\u001b[0m\u001b[0;34m[\u001b[0m\u001b[0mmax_items\u001b[0m\u001b[0;34m,\u001b[0m\u001b[0;34m:\u001b[0m\u001b[0;34m]\u001b[0m\u001b[0;34m.\u001b[0m\u001b[0mtodense\u001b[0m\u001b[0;34m(\u001b[0m\u001b[0;34m)\u001b[0m\u001b[0;34m)\u001b[0m\u001b[0;34m)\u001b[0m\u001b[0;34m\u001b[0m\u001b[0;34m\u001b[0m\u001b[0m\n\u001b[1;32m      7\u001b[0m \u001b[0;34m\u001b[0m\u001b[0m\n",
      "\u001b[0;32m/opt/anaconda3/lib/python3.7/site-packages/pandas/core/frame.py\u001b[0m in \u001b[0;36m__getitem__\u001b[0;34m(self, key)\u001b[0m\n\u001b[1;32m   2978\u001b[0m             \u001b[0;32mif\u001b[0m \u001b[0mself\u001b[0m\u001b[0;34m.\u001b[0m\u001b[0mcolumns\u001b[0m\u001b[0;34m.\u001b[0m\u001b[0mnlevels\u001b[0m \u001b[0;34m>\u001b[0m \u001b[0;36m1\u001b[0m\u001b[0;34m:\u001b[0m\u001b[0;34m\u001b[0m\u001b[0;34m\u001b[0m\u001b[0m\n\u001b[1;32m   2979\u001b[0m                 \u001b[0;32mreturn\u001b[0m \u001b[0mself\u001b[0m\u001b[0;34m.\u001b[0m\u001b[0m_getitem_multilevel\u001b[0m\u001b[0;34m(\u001b[0m\u001b[0mkey\u001b[0m\u001b[0;34m)\u001b[0m\u001b[0;34m\u001b[0m\u001b[0;34m\u001b[0m\u001b[0m\n\u001b[0;32m-> 2980\u001b[0;31m             \u001b[0mindexer\u001b[0m \u001b[0;34m=\u001b[0m \u001b[0mself\u001b[0m\u001b[0;34m.\u001b[0m\u001b[0mcolumns\u001b[0m\u001b[0;34m.\u001b[0m\u001b[0mget_loc\u001b[0m\u001b[0;34m(\u001b[0m\u001b[0mkey\u001b[0m\u001b[0;34m)\u001b[0m\u001b[0;34m\u001b[0m\u001b[0;34m\u001b[0m\u001b[0m\n\u001b[0m\u001b[1;32m   2981\u001b[0m             \u001b[0;32mif\u001b[0m \u001b[0mis_integer\u001b[0m\u001b[0;34m(\u001b[0m\u001b[0mindexer\u001b[0m\u001b[0;34m)\u001b[0m\u001b[0;34m:\u001b[0m\u001b[0;34m\u001b[0m\u001b[0;34m\u001b[0m\u001b[0m\n\u001b[1;32m   2982\u001b[0m                 \u001b[0mindexer\u001b[0m \u001b[0;34m=\u001b[0m \u001b[0;34m[\u001b[0m\u001b[0mindexer\u001b[0m\u001b[0;34m]\u001b[0m\u001b[0;34m\u001b[0m\u001b[0;34m\u001b[0m\u001b[0m\n",
      "\u001b[0;32m/opt/anaconda3/lib/python3.7/site-packages/pandas/core/indexes/base.py\u001b[0m in \u001b[0;36mget_loc\u001b[0;34m(self, key, method, tolerance)\u001b[0m\n\u001b[1;32m   2895\u001b[0m                 )\n\u001b[1;32m   2896\u001b[0m             \u001b[0;32mtry\u001b[0m\u001b[0;34m:\u001b[0m\u001b[0;34m\u001b[0m\u001b[0;34m\u001b[0m\u001b[0m\n\u001b[0;32m-> 2897\u001b[0;31m                 \u001b[0;32mreturn\u001b[0m \u001b[0mself\u001b[0m\u001b[0;34m.\u001b[0m\u001b[0m_engine\u001b[0m\u001b[0;34m.\u001b[0m\u001b[0mget_loc\u001b[0m\u001b[0;34m(\u001b[0m\u001b[0mkey\u001b[0m\u001b[0;34m)\u001b[0m\u001b[0;34m\u001b[0m\u001b[0;34m\u001b[0m\u001b[0m\n\u001b[0m\u001b[1;32m   2898\u001b[0m             \u001b[0;32mexcept\u001b[0m \u001b[0mKeyError\u001b[0m\u001b[0;34m:\u001b[0m\u001b[0;34m\u001b[0m\u001b[0;34m\u001b[0m\u001b[0m\n\u001b[1;32m   2899\u001b[0m                 \u001b[0;32mreturn\u001b[0m \u001b[0mself\u001b[0m\u001b[0;34m.\u001b[0m\u001b[0m_engine\u001b[0m\u001b[0;34m.\u001b[0m\u001b[0mget_loc\u001b[0m\u001b[0;34m(\u001b[0m\u001b[0mself\u001b[0m\u001b[0;34m.\u001b[0m\u001b[0m_maybe_cast_indexer\u001b[0m\u001b[0;34m(\u001b[0m\u001b[0mkey\u001b[0m\u001b[0;34m)\u001b[0m\u001b[0;34m)\u001b[0m\u001b[0;34m\u001b[0m\u001b[0;34m\u001b[0m\u001b[0m\n",
      "\u001b[0;32mpandas/_libs/index.pyx\u001b[0m in \u001b[0;36mpandas._libs.index.IndexEngine.get_loc\u001b[0;34m()\u001b[0m\n",
      "\u001b[0;32mpandas/_libs/index.pyx\u001b[0m in \u001b[0;36mpandas._libs.index.IndexEngine.get_loc\u001b[0;34m()\u001b[0m\n",
      "\u001b[0;31mTypeError\u001b[0m: '(array([7833, 8642, 8398, ...,  518, 4973, 6022]),)' is an invalid key"
     ]
    }
   ],
   "source": [
    "def plot_tsne_pca(data, labels):\n",
    "    max_label = max(labels)\n",
    "    max_items = np.random.choice(range(data.shape[0]), size=3000, replace=False)\n",
    "    \n",
    "    pca = PCA(n_components=2).fit_transform(data[max_items,].todense())\n",
    "    tsne = TSNE().fit_transform(PCA(n_components=50).fit_transform(data[max_items,:].todense()))\n",
    "    \n",
    "    \n",
    "    idx = np.random.choice(range(pca.shape[0]), size=300, replace=False)\n",
    "    label_subset = labels[max_items]\n",
    "    label_subset = [cm.hsv(i/max_label) for i in label_subset[idx]]\n",
    "    \n",
    "    f, ax = plt.subplots(1, 2, figsize=(14, 6))\n",
    "    \n",
    "    ax[0].scatter(pca[idx, 0], pca[idx, 1], c=label_subset)\n",
    "    ax[0].set_title('PCA Cluster Plot')\n",
    "    \n",
    "    ax[1].scatter(tsne[idx, 0], tsne[idx, 1], c=label_subset)\n",
    "    ax[1].set_title('TSNE Cluster Plot')\n",
    "    \n",
    "plot_tsne_pca(df, clusters)"
   ]
  },
  {
   "cell_type": "code",
   "execution_count": 69,
   "metadata": {},
   "outputs": [
    {
     "data": {
      "text/plain": [
       "range(0, 8672)"
      ]
     },
     "execution_count": 69,
     "metadata": {},
     "output_type": "execute_result"
    }
   ],
   "source": [
    "range(df.shape[0])"
   ]
  },
  {
   "cell_type": "code",
   "execution_count": null,
   "metadata": {},
   "outputs": [],
   "source": []
  }
 ],
 "metadata": {
  "kernelspec": {
   "display_name": "Python 3",
   "language": "python",
   "name": "python3"
  },
  "language_info": {
   "codemirror_mode": {
    "name": "ipython",
    "version": 3
   },
   "file_extension": ".py",
   "mimetype": "text/x-python",
   "name": "python",
   "nbconvert_exporter": "python",
   "pygments_lexer": "ipython3",
   "version": "3.7.4"
  }
 },
 "nbformat": 4,
 "nbformat_minor": 2
}
