{
 "cells": [
  {
   "cell_type": "markdown",
   "metadata": {},
   "source": [
    "# COVID-19 Research Papers LDA Clustering"
   ]
  },
  {
   "cell_type": "code",
   "execution_count": 62,
   "metadata": {},
   "outputs": [
    {
     "name": "stderr",
     "output_type": "stream",
     "text": [
      "[nltk_data] Downloading package stopwords to\n",
      "[nltk_data]     /Users/jayfeng/nltk_data...\n",
      "[nltk_data]   Package stopwords is already up-to-date!\n",
      "[nltk_data] Downloading package punkt to /Users/jayfeng/nltk_data...\n",
      "[nltk_data]   Package punkt is already up-to-date!\n",
      "[nltk_data] Downloading package wordnet to /Users/jayfeng/nltk_data...\n",
      "[nltk_data]   Package wordnet is already up-to-date!\n"
     ]
    }
   ],
   "source": [
    "import numpy as np\n",
    "import pandas as pd\n",
    "import json\n",
    "import itertools\n",
    "import matplotlib.pyplot as plt\n",
    "\n",
    "from sklearn.feature_extraction.text import TfidfVectorizer\n",
    "from sklearn.cluster import KMeans\n",
    "\n",
    "from sklearn.cluster import MiniBatchKMeans\n",
    "from sklearn.decomposition import PCA\n",
    "from sklearn.manifold import TSNE\n",
    "\n",
    "import nltk\n",
    "from nltk.stem.snowball import SnowballStemmer\n",
    "#from nltk.stem.porter import PorterStemmer\n",
    "from nltk.corpus import stopwords \n",
    "nltk.download('stopwords')\n",
    "from nltk.tokenize import word_tokenize \n",
    "nltk.download('punkt')\n",
    "from nltk.stem import WordNetLemmatizer \n",
    "nltk.download('wordnet')\n",
    "\n",
    "import re\n",
    "\n",
    "import gensim\n",
    "from gensim import corpora, models"
   ]
  },
  {
   "cell_type": "code",
   "execution_count": 2,
   "metadata": {
    "scrolled": true
   },
   "outputs": [],
   "source": [
    "\"\"\"Reads in abstracts.csv and filters out rows with missing values.\"\"\"\n",
    "\n",
    "df = pd.read_csv(\"abstracts.csv\")\n",
    "df = df[df[\"abstract\"] != \"NaN\"]\n",
    "df = df.dropna()"
   ]
  },
  {
   "cell_type": "code",
   "execution_count": 3,
   "metadata": {},
   "outputs": [],
   "source": [
    "# def tokenize_func(row):\n",
    "#     return word_tokenize(row[2])"
   ]
  },
  {
   "cell_type": "code",
   "execution_count": 4,
   "metadata": {
    "scrolled": false
   },
   "outputs": [],
   "source": [
    "# df[\"abstract tokens\"] = df.apply(lambda row: tokenize_func(row), axis=1)"
   ]
  },
  {
   "cell_type": "code",
   "execution_count": 5,
   "metadata": {},
   "outputs": [],
   "source": [
    "# lemmatizer = WordNetLemmatizer() \n",
    "\n",
    "# def lemmatize_func(row):\n",
    "#     counter = 0\n",
    "#     while counter < len(row[3]):\n",
    "#         row[3][counter] = lemmatizer.lemmatize(row[3][counter])\n",
    "#         counter += 1"
   ]
  },
  {
   "cell_type": "code",
   "execution_count": 6,
   "metadata": {},
   "outputs": [],
   "source": [
    "# df[\"abstract tokens\"] = df.apply(lambda row: tokenize_func(row), axis=1)"
   ]
  },
  {
   "cell_type": "code",
   "execution_count": 7,
   "metadata": {
    "scrolled": false
   },
   "outputs": [],
   "source": [
    "stop_words = set(stopwords.words('english')) \n",
    "snowBallStemmer = SnowballStemmer(\"english\")\n",
    "lemmatizer = WordNetLemmatizer()"
   ]
  },
  {
   "cell_type": "code",
   "execution_count": 8,
   "metadata": {
    "scrolled": true
   },
   "outputs": [],
   "source": [
    "sample_abstract = 'Abstract Middle-aged female identical twins, one of whom had systemic lupus erythematosus (SLE), were evaluated for immunologic reactivity to previous antigenic challenges, including primary immunization with a foreign antigen, keyhole limpet hemocyanin (KLH). These two women had lived together for all of their 58 years and neither was receiving anti-inflammatory or immunosuppressive drugs at the time of these studies. Both twins demonstrated comparable 7S and 198 humoral antibody response to KLH, as well as similar viral antibody titers. However, the twin with SLE was anergic to common antigens, streptokinase-streptodornase, Trichophyton and Candida; furthermore delayed hypersensitivity to KLH did not develop after immunization. This observed discrepancy between humoral and cellular immunity in genetically similar subjects may be significant in the pathogenesis of SLE.'"
   ]
  },
  {
   "cell_type": "code",
   "execution_count": 14,
   "metadata": {},
   "outputs": [],
   "source": [
    "def tokenize_clean(abstract):\n",
    "    #tokenizes abstract string\n",
    "    tokens = word_tokenize(abstract.lower())\n",
    "    \n",
    "    #lemmatizes tokens\n",
    "    counter = 0\n",
    "    while counter < len(tokens):\n",
    "        tokens[counter] = lemmatizer.lemmatize(tokens[counter])\n",
    "        counter += 1\n",
    "    \n",
    "    #filters, stems, and lowercases tokens\n",
    "    filtered_tokens = []\n",
    "    for i in tokens:\n",
    "        if i not in stop_words and len(i) > 3 and i != \"abstract\":\n",
    "            stemmed_word = snowBallStemmer.stem(i)\n",
    "            filtered_tokens.append(stemmed_word)\n",
    "    \n",
    "    return filtered_tokens"
   ]
  },
  {
   "cell_type": "code",
   "execution_count": 15,
   "metadata": {},
   "outputs": [],
   "source": [
    "df[\"abstract tokens\"] = df.apply(lambda row: tokenize_clean(row.abstract), axis=1)"
   ]
  },
  {
   "cell_type": "code",
   "execution_count": 16,
   "metadata": {
    "scrolled": true
   },
   "outputs": [
    {
     "data": {
      "text/html": [
       "<div>\n",
       "<style scoped>\n",
       "    .dataframe tbody tr th:only-of-type {\n",
       "        vertical-align: middle;\n",
       "    }\n",
       "\n",
       "    .dataframe tbody tr th {\n",
       "        vertical-align: top;\n",
       "    }\n",
       "\n",
       "    .dataframe thead th {\n",
       "        text-align: right;\n",
       "    }\n",
       "</style>\n",
       "<table border=\"1\" class=\"dataframe\">\n",
       "  <thead>\n",
       "    <tr style=\"text-align: right;\">\n",
       "      <th></th>\n",
       "      <th>Unnamed: 0</th>\n",
       "      <th>sha</th>\n",
       "      <th>abstract</th>\n",
       "      <th>abstract tokens</th>\n",
       "    </tr>\n",
       "  </thead>\n",
       "  <tbody>\n",
       "    <tr>\n",
       "      <td>0</td>\n",
       "      <td>3</td>\n",
       "      <td>aecbc613ebdab36753235197ffb4f35734b5ca63</td>\n",
       "      <td>Abstract Middle-aged female identical twins, o...</td>\n",
       "      <td>[middle-ag, femal, ident, twin, system, lupus,...</td>\n",
       "    </tr>\n",
       "    <tr>\n",
       "      <td>1</td>\n",
       "      <td>5</td>\n",
       "      <td>212e990b378e8d267042753d5f9d4a64ea5e9869</td>\n",
       "      <td>Abstract Our understanding of the pathogenesis...</td>\n",
       "      <td>[understand, pathogenesi, infecti, especi, bac...</td>\n",
       "    </tr>\n",
       "    <tr>\n",
       "      <td>2</td>\n",
       "      <td>6</td>\n",
       "      <td>bf5d344243153d58be692ceb26f52c08e2bd2d2f</td>\n",
       "      <td>Abstract In the pathogenesis of rheumatoid art...</td>\n",
       "      <td>[pathogenesi, rheumatoid, arthriti, local, pro...</td>\n",
       "    </tr>\n",
       "    <tr>\n",
       "      <td>3</td>\n",
       "      <td>7</td>\n",
       "      <td>ddd2ecf42ec86ad66072962081e1ce4594431f9c</td>\n",
       "      <td>Abstract Pharyngitis, bronchitis, and pneumoni...</td>\n",
       "      <td>[pharyng, bronchiti, pneumonia, repres, common...</td>\n",
       "    </tr>\n",
       "    <tr>\n",
       "      <td>4</td>\n",
       "      <td>8</td>\n",
       "      <td>a55cb4e724091ced46b5e55b982a14525eea1c7e</td>\n",
       "      <td>Abstract Acute bronchitis, an illness frequent...</td>\n",
       "      <td>[acut, bronchiti, ill, frequent, encount, prim...</td>\n",
       "    </tr>\n",
       "    <tr>\n",
       "      <td>...</td>\n",
       "      <td>...</td>\n",
       "      <td>...</td>\n",
       "      <td>...</td>\n",
       "      <td>...</td>\n",
       "    </tr>\n",
       "    <tr>\n",
       "      <td>27685</td>\n",
       "      <td>40508</td>\n",
       "      <td>179df1e769292dd113cef1b54b0b43213e6b5c97</td>\n",
       "      <td>Background/introduction COVID−19, a novel coro...</td>\n",
       "      <td>[background/introduct, covid−19, novel, corona...</td>\n",
       "    </tr>\n",
       "    <tr>\n",
       "      <td>27686</td>\n",
       "      <td>40509</td>\n",
       "      <td>9b4445849937393a4b05378653521a9d0c34dc8e</td>\n",
       "      <td>Governments around the world must rapidly mobi...</td>\n",
       "      <td>[govern, around, world, must, rapid, mobil, ma...</td>\n",
       "    </tr>\n",
       "    <tr>\n",
       "      <td>27687</td>\n",
       "      <td>40510</td>\n",
       "      <td>4e618ec5d2edea031a9ff8058a9bafafe30937be</td>\n",
       "      <td>The 2019-Novel-Coronavirus (COVID-19) has affe...</td>\n",
       "      <td>[2019-novel-coronavirus, covid-19, affect, cou...</td>\n",
       "    </tr>\n",
       "    <tr>\n",
       "      <td>27688</td>\n",
       "      <td>40511</td>\n",
       "      <td>28b53e0cab53b10ab87431d6cc4ac1e0a7c4d6b9</td>\n",
       "      <td>Object Meteorological parameters are the impor...</td>\n",
       "      <td>[object, meteorolog, paramet, import, factor, ...</td>\n",
       "    </tr>\n",
       "    <tr>\n",
       "      <td>27689</td>\n",
       "      <td>40513</td>\n",
       "      <td>210b30ec755f5d8b0622c78a8e570290293bf49f</td>\n",
       "      <td>We report temporal patterns of viral shedding ...</td>\n",
       "      <td>[report, tempor, pattern, viral, shed, laborat...</td>\n",
       "    </tr>\n",
       "  </tbody>\n",
       "</table>\n",
       "<p>24045 rows × 4 columns</p>\n",
       "</div>"
      ],
      "text/plain": [
       "       Unnamed: 0                                       sha  \\\n",
       "0               3  aecbc613ebdab36753235197ffb4f35734b5ca63   \n",
       "1               5  212e990b378e8d267042753d5f9d4a64ea5e9869   \n",
       "2               6  bf5d344243153d58be692ceb26f52c08e2bd2d2f   \n",
       "3               7  ddd2ecf42ec86ad66072962081e1ce4594431f9c   \n",
       "4               8  a55cb4e724091ced46b5e55b982a14525eea1c7e   \n",
       "...           ...                                       ...   \n",
       "27685       40508  179df1e769292dd113cef1b54b0b43213e6b5c97   \n",
       "27686       40509  9b4445849937393a4b05378653521a9d0c34dc8e   \n",
       "27687       40510  4e618ec5d2edea031a9ff8058a9bafafe30937be   \n",
       "27688       40511  28b53e0cab53b10ab87431d6cc4ac1e0a7c4d6b9   \n",
       "27689       40513  210b30ec755f5d8b0622c78a8e570290293bf49f   \n",
       "\n",
       "                                                abstract  \\\n",
       "0      Abstract Middle-aged female identical twins, o...   \n",
       "1      Abstract Our understanding of the pathogenesis...   \n",
       "2      Abstract In the pathogenesis of rheumatoid art...   \n",
       "3      Abstract Pharyngitis, bronchitis, and pneumoni...   \n",
       "4      Abstract Acute bronchitis, an illness frequent...   \n",
       "...                                                  ...   \n",
       "27685  Background/introduction COVID−19, a novel coro...   \n",
       "27686  Governments around the world must rapidly mobi...   \n",
       "27687  The 2019-Novel-Coronavirus (COVID-19) has affe...   \n",
       "27688  Object Meteorological parameters are the impor...   \n",
       "27689  We report temporal patterns of viral shedding ...   \n",
       "\n",
       "                                         abstract tokens  \n",
       "0      [middle-ag, femal, ident, twin, system, lupus,...  \n",
       "1      [understand, pathogenesi, infecti, especi, bac...  \n",
       "2      [pathogenesi, rheumatoid, arthriti, local, pro...  \n",
       "3      [pharyng, bronchiti, pneumonia, repres, common...  \n",
       "4      [acut, bronchiti, ill, frequent, encount, prim...  \n",
       "...                                                  ...  \n",
       "27685  [background/introduct, covid−19, novel, corona...  \n",
       "27686  [govern, around, world, must, rapid, mobil, ma...  \n",
       "27687  [2019-novel-coronavirus, covid-19, affect, cou...  \n",
       "27688  [object, meteorolog, paramet, import, factor, ...  \n",
       "27689  [report, tempor, pattern, viral, shed, laborat...  \n",
       "\n",
       "[24045 rows x 4 columns]"
      ]
     },
     "execution_count": 16,
     "metadata": {},
     "output_type": "execute_result"
    }
   ],
   "source": [
    "df"
   ]
  },
  {
   "cell_type": "code",
   "execution_count": 37,
   "metadata": {
    "scrolled": true
   },
   "outputs": [],
   "source": [
    "texts = []\n",
    "for index, row in df.iterrows():\n",
    "    texts.append(row[3])\n",
    "    "
   ]
  },
  {
   "cell_type": "code",
   "execution_count": 41,
   "metadata": {},
   "outputs": [],
   "source": [
    "dictionary = corpora.Dictionary(texts)\n",
    "\n",
    "corpus = [dictionary.doc2bow(text) for text in texts]\n",
    "\n",
    "ldamodel = gensim.models.ldamodel.LdaModel(corpus, num_topics=20, id2word = dictionary, passes=20)"
   ]
  },
  {
   "cell_type": "code",
   "execution_count": 70,
   "metadata": {
    "scrolled": false
   },
   "outputs": [],
   "source": [
    "#print(ldamodel.print_topics(num_topics=20, num_words=5))"
   ]
  },
  {
   "cell_type": "code",
   "execution_count": null,
   "metadata": {},
   "outputs": [],
   "source": [
    "[(0, '0.044*\"hcov\" + 0.029*\"measl\" + 0.026*\"facial\" + 0.021*\"hcov-nl63\" + 0.018*\"rhiniti\"'),\n",
    " (1, '0.080*\"virus\" + 0.047*\"infect\" + 0.034*\"respiratori\" + 0.030*\"viral\" + 0.020*\"detect\"'),\n",
    " (2, '0.052*\"cell\" + 0.031*\"infect\" + 0.021*\"respons\" + 0.019*\"express\" + 0.019*\"immun\"'),\n",
    " (3, '0.165*\"januari\" + 0.094*\"decemb\" + 0.022*\"affili\" + 0.013*\"aviat\" + 0.011*\"thailand\"'),\n",
    " (4, '0.075*\"patient\" + 0.026*\"sever\" + 0.026*\"clinic\" + 0.020*\"diseas\" + 0.015*\"treatment\"'),\n",
    " (5, '0.040*\"activ\" + 0.037*\"antivir\" + 0.028*\"effect\" + 0.026*\"drug\" + 0.021*\"inhibit\"'),\n",
    " (6, '0.051*\"model\" + 0.017*\"number\" + 0.017*\"epidem\" + 0.013*\"popul\" + 0.013*\"estim\"'),\n",
    " (7, '0.042*\"sequenc\" + 0.030*\"gene\" + 0.028*\"strain\" + 0.027*\"genom\" + 0.018*\"analysi\"'),\n",
    " (8, '0.022*\"diseas\" + 0.014*\"review\" + 0.013*\"develop\" + 0.011*\"pathogen\" + 0.011*\"system\"'),\n",
    " (9, '0.035*\"use\" + 0.033*\"detect\" + 0.028*\"assay\" + 0.025*\"method\" + 0.024*\"test\"'),\n",
    " (10, '0.093*\"pedv\" + 0.073*\"porcin\" + 0.046*\"swine\" + 0.043*\"diarrhea\" + 0.043*\"piglet\"'),\n",
    " (11, '0.028*\"health\" + 0.024*\"outbreak\" + 0.016*\"public\" + 0.014*\"china\" + 0.014*\"diseas\"'),\n",
    " (12, '0.088*\"korea\" + 0.051*\"felin\" + 0.019*\"lesion\" + 0.015*\"spectrometri\" + 0.014*\"periton\"'),\n",
    " (13, '0.090*\"vaccin\" + 0.056*\"antibodi\" + 0.036*\"immun\" + 0.021*\"protect\" + 0.019*\"respons\"'),\n",
    " (14, '0.039*\"case\" + 0.033*\"hospit\" + 0.028*\"patient\" + 0.020*\"rate\" + 0.013*\"infect\"'),\n",
    " (15, '0.034*\"studi\" + 0.029*\"use\" + 0.020*\"data\" + 0.019*\"method\" + 0.018*\"result\"'),\n",
    " (16, '0.041*\"protein\" + 0.024*\"virus\" + 0.015*\"cell\" + 0.015*\"viral\" + 0.011*\"structur\"'),\n",
    " (17, '0.087*\"temperatur\" + 0.060*\"heat\" + 0.044*\"inactiv\" + 0.028*\"skin\" + 0.027*\"humid\"'),\n",
    " (18, '0.044*\"group\" + 0.025*\"blood\" + 0.016*\"calf\" + 0.016*\"signific\" + 0.015*\"level\"'),\n",
    " (19, '0.072*\"influenza\" + 0.022*\"pandem\" + 0.021*\"particip\" + 0.019*\"health\" + 0.016*\"work\"')]\n",
    "\n",
    "\n",
    "\n"
   ]
  },
  {
   "cell_type": "code",
   "execution_count": 72,
   "metadata": {},
   "outputs": [],
   "source": [
    "partial_df = df.sample(2000)"
   ]
  },
  {
   "cell_type": "code",
   "execution_count": 73,
   "metadata": {},
   "outputs": [],
   "source": [
    "partial_texts = []\n",
    "for index, row in partial_df.iterrows():\n",
    "    partial_texts.append(row[3])"
   ]
  },
  {
   "cell_type": "code",
   "execution_count": 74,
   "metadata": {
    "scrolled": true
   },
   "outputs": [],
   "source": [
    "dictionary = corpora.Dictionary(partial_texts)\n",
    "dictionary.filter_extremes(no_below=3)\n",
    "\n",
    "\n",
    "corpus = [dictionary.doc2bow(text) for text in partial_texts]\n",
    "\n",
    "ldamodel = gensim.models.ldamodel.LdaModel(corpus, num_topics=15, id2word = dictionary, passes=20)"
   ]
  },
  {
   "cell_type": "code",
   "execution_count": 75,
   "metadata": {
    "scrolled": true
   },
   "outputs": [
    {
     "name": "stdout",
     "output_type": "stream",
     "text": [
      "[(0, '0.037*\"patient\" + 0.023*\"case\" + 0.016*\"sar\" + 0.009*\"respiratori\" + 0.008*\"sever\"'), (1, '0.040*\"patient\" + 0.023*\"care\" + 0.016*\"mortal\" + 0.013*\"unit\" + 0.012*\"intens\"'), (2, '0.034*\"protein\" + 0.015*\"virus\" + 0.015*\"sequenc\" + 0.013*\"genom\" + 0.012*\"viral\"'), (3, '0.033*\"virus\" + 0.026*\"influenza\" + 0.021*\"h1n1\" + 0.014*\"respiratori\" + 0.014*\"infect\"'), (4, '0.021*\"health\" + 0.015*\"diseas\" + 0.014*\"outbreak\" + 0.011*\"public\" + 0.011*\"emerg\"'), (5, '0.024*\"infect\" + 0.015*\"calf\" + 0.012*\"mers-cov\" + 0.010*\"virus\" + 0.010*\"sever\"'), (6, '0.037*\"cell\" + 0.020*\"express\" + 0.012*\"mous\" + 0.011*\"increas\" + 0.010*\"immun\"'), (7, '0.016*\"diseas\" + 0.015*\"develop\" + 0.013*\"review\" + 0.010*\"research\" + 0.010*\"system\"'), (8, '0.038*\"vaccin\" + 0.021*\"antibodi\" + 0.018*\"virus\" + 0.017*\"immun\" + 0.015*\"strain\"'), (9, '0.018*\"model\" + 0.011*\"data\" + 0.011*\"use\" + 0.011*\"epidem\" + 0.009*\"popul\"'), (10, '0.038*\"detect\" + 0.028*\"virus\" + 0.023*\"test\" + 0.022*\"sampl\" + 0.017*\"assay\"'), (11, '0.017*\"diseas\" + 0.011*\"effect\" + 0.008*\"pathogen\" + 0.008*\"anim\" + 0.008*\"human\"'), (12, '0.015*\"health\" + 0.012*\"studi\" + 0.009*\"use\" + 0.008*\"risk\" + 0.008*\"diseas\"'), (13, '0.045*\"infect\" + 0.029*\"virus\" + 0.025*\"respiratori\" + 0.017*\"viral\" + 0.014*\"child\"'), (14, '0.031*\"cell\" + 0.030*\"virus\" + 0.021*\"infect\" + 0.017*\"viral\" + 0.017*\"activ\"')]\n"
     ]
    }
   ],
   "source": [
    "print(ldamodel.print_topics(num_topics=15, num_words=5))"
   ]
  },
  {
   "cell_type": "code",
   "execution_count": 147,
   "metadata": {},
   "outputs": [
    {
     "data": {
      "text/plain": [
       "[(0,\n",
       "  [('patient', 0.03690815),\n",
       "   ('case', 0.023391334),\n",
       "   ('sar', 0.015882688),\n",
       "   ('respiratori', 0.00851741),\n",
       "   ('sever', 0.008492307),\n",
       "   ('result', 0.008129095),\n",
       "   ('transmiss', 0.008045725),\n",
       "   ('clinic', 0.008037074),\n",
       "   ('pneumonia', 0.007948288),\n",
       "   ('outbreak', 0.007591929)]),\n",
       " (1,\n",
       "  [('patient', 0.040227696),\n",
       "   ('care', 0.022541983),\n",
       "   ('mortal', 0.015562029),\n",
       "   ('unit', 0.013499925),\n",
       "   ('intens', 0.012445856),\n",
       "   ('studi', 0.0114984345),\n",
       "   ('ventil', 0.011095681),\n",
       "   ('outcom', 0.010854739),\n",
       "   ('critic', 0.010292985),\n",
       "   ('acut', 0.009972063)]),\n",
       " (2,\n",
       "  [('protein', 0.033602025),\n",
       "   ('virus', 0.015358584),\n",
       "   ('sequenc', 0.015258561),\n",
       "   ('genom', 0.0132068405),\n",
       "   ('viral', 0.011525483),\n",
       "   ('structur', 0.010865143),\n",
       "   ('gene', 0.008600501),\n",
       "   ('function', 0.007009756),\n",
       "   ('membran', 0.006881289),\n",
       "   ('bind', 0.006694395)]),\n",
       " (3,\n",
       "  [('virus', 0.03321224),\n",
       "   ('influenza', 0.026445596),\n",
       "   ('h1n1', 0.021181157),\n",
       "   ('respiratori', 0.014148833),\n",
       "   ('infect', 0.014049618),\n",
       "   ('exacerb', 0.013880368),\n",
       "   ('asthma', 0.01211882),\n",
       "   ('airway', 0.010625421),\n",
       "   ('2009', 0.0093558645),\n",
       "   ('copd', 0.009113904)]),\n",
       " (4,\n",
       "  [('health', 0.020613419),\n",
       "   ('diseas', 0.014890824),\n",
       "   ('outbreak', 0.013964742),\n",
       "   ('public', 0.011443158),\n",
       "   ('emerg', 0.010624142),\n",
       "   ('control', 0.009784779),\n",
       "   ('infecti', 0.008573322),\n",
       "   ('infect', 0.008359032),\n",
       "   ('influenza', 0.00821705),\n",
       "   ('prevent', 0.007850736)]),\n",
       " (5,\n",
       "  [('infect', 0.02428321),\n",
       "   ('calf', 0.01524427),\n",
       "   ('mers-cov', 0.011959925),\n",
       "   ('virus', 0.009723995),\n",
       "   ('sever', 0.009673219),\n",
       "   ('diseas', 0.008957053),\n",
       "   ('felin', 0.007299988),\n",
       "   ('respiratori', 0.007243011),\n",
       "   ('clinic', 0.0069354647),\n",
       "   ('caus', 0.0065543796)]),\n",
       " (6,\n",
       "  [('cell', 0.036584947),\n",
       "   ('express', 0.019737493),\n",
       "   ('mous', 0.01200424),\n",
       "   ('increas', 0.011332349),\n",
       "   ('immun', 0.010471314),\n",
       "   ('cytokin', 0.009288304),\n",
       "   ('studi', 0.009223425),\n",
       "   ('result', 0.009005683),\n",
       "   ('receptor', 0.008811528),\n",
       "   ('activ', 0.008808603)]),\n",
       " (7,\n",
       "  [('diseas', 0.015949616),\n",
       "   ('develop', 0.015206151),\n",
       "   ('review', 0.012975769),\n",
       "   ('research', 0.0102416575),\n",
       "   ('system', 0.009828745),\n",
       "   ('model', 0.008109401),\n",
       "   ('use', 0.007009249),\n",
       "   ('biolog', 0.006476966),\n",
       "   ('studi', 0.0064165844),\n",
       "   ('articl', 0.006378202)]),\n",
       " (8,\n",
       "  [('vaccin', 0.037794966),\n",
       "   ('antibodi', 0.021288302),\n",
       "   ('virus', 0.01844102),\n",
       "   ('immun', 0.016720308),\n",
       "   ('strain', 0.014626423),\n",
       "   ('respons', 0.011157531),\n",
       "   ('antigen', 0.009436386),\n",
       "   ('infect', 0.009299819),\n",
       "   ('pedv', 0.009011899),\n",
       "   ('protect', 0.008922097)]),\n",
       " (9,\n",
       "  [('model', 0.01769381),\n",
       "   ('data', 0.011426766),\n",
       "   ('use', 0.0109958155),\n",
       "   ('epidem', 0.010519126),\n",
       "   ('popul', 0.008575939),\n",
       "   ('measur', 0.008216094),\n",
       "   ('differ', 0.007980097),\n",
       "   ('method', 0.007307657),\n",
       "   ('individu', 0.006768171),\n",
       "   ('number', 0.00671578)]),\n",
       " (10,\n",
       "  [('detect', 0.038399935),\n",
       "   ('virus', 0.027850727),\n",
       "   ('test', 0.022504712),\n",
       "   ('sampl', 0.022323828),\n",
       "   ('assay', 0.017388567),\n",
       "   ('use', 0.016133646),\n",
       "   ('method', 0.014425162),\n",
       "   ('sensit', 0.010643329),\n",
       "   ('viral', 0.010469486),\n",
       "   ('respiratori', 0.010041431)]),\n",
       " (11,\n",
       "  [('diseas', 0.017117599),\n",
       "   ('effect', 0.010973497),\n",
       "   ('pathogen', 0.008148262),\n",
       "   ('anim', 0.008036709),\n",
       "   ('human', 0.008014078),\n",
       "   ('use', 0.007940414),\n",
       "   ('therapi', 0.0072860834),\n",
       "   ('also', 0.006903307),\n",
       "   ('food', 0.0062439954),\n",
       "   ('host', 0.0061288173)]),\n",
       " (12,\n",
       "  [('health', 0.014588878),\n",
       "   ('studi', 0.012406205),\n",
       "   ('use', 0.009482657),\n",
       "   ('risk', 0.008468774),\n",
       "   ('diseas', 0.008309853),\n",
       "   ('patient', 0.007875087),\n",
       "   ('develop', 0.0068201027),\n",
       "   ('intervent', 0.0062703234),\n",
       "   ('clinic', 0.006119206),\n",
       "   ('effect', 0.006012876)]),\n",
       " (13,\n",
       "  [('infect', 0.044600748),\n",
       "   ('virus', 0.02888287),\n",
       "   ('respiratori', 0.024965074),\n",
       "   ('viral', 0.01665791),\n",
       "   ('child', 0.013585521),\n",
       "   ('associ', 0.010931963),\n",
       "   ('patient', 0.010017339),\n",
       "   ('sever', 0.00977747),\n",
       "   ('studi', 0.0089888675),\n",
       "   ('caus', 0.008919101)]),\n",
       " (14,\n",
       "  [('cell', 0.030927373),\n",
       "   ('virus', 0.029781537),\n",
       "   ('infect', 0.021151504),\n",
       "   ('viral', 0.01703027),\n",
       "   ('activ', 0.016992563),\n",
       "   ('antivir', 0.012180295),\n",
       "   ('replic', 0.010558124),\n",
       "   ('inhibit', 0.00934431),\n",
       "   ('effect', 0.008009585),\n",
       "   ('host', 0.007845747)])]"
      ]
     },
     "execution_count": 147,
     "metadata": {},
     "output_type": "execute_result"
    }
   ],
   "source": [
    "ldamodel.show_topics(num_topics=15, num_words=10, formatted=False)"
   ]
  },
  {
   "cell_type": "code",
   "execution_count": 154,
   "metadata": {},
   "outputs": [],
   "source": [
    "test = ldamodel.show_topics(num_topics=15, num_words=10, formatted=False)[6][1]"
   ]
  },
  {
   "cell_type": "code",
   "execution_count": 155,
   "metadata": {},
   "outputs": [],
   "source": [
    "sum = 0\n",
    "for i in test:\n",
    "    sum += i[1]"
   ]
  },
  {
   "cell_type": "code",
   "execution_count": 156,
   "metadata": {},
   "outputs": [
    {
     "data": {
      "text/plain": [
       "0.13526788540184498"
      ]
     },
     "execution_count": 156,
     "metadata": {},
     "output_type": "execute_result"
    }
   ],
   "source": [
    "sum"
   ]
  },
  {
   "cell_type": "code",
   "execution_count": null,
   "metadata": {},
   "outputs": [],
   "source": []
  }
 ],
 "metadata": {
  "kernelspec": {
   "display_name": "Python 3",
   "language": "python",
   "name": "python3"
  },
  "language_info": {
   "codemirror_mode": {
    "name": "ipython",
    "version": 3
   },
   "file_extension": ".py",
   "mimetype": "text/x-python",
   "name": "python",
   "nbconvert_exporter": "python",
   "pygments_lexer": "ipython3",
   "version": "3.7.4"
  }
 },
 "nbformat": 4,
 "nbformat_minor": 2
}
