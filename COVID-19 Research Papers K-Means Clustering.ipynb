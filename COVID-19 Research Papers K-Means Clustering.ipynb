{
 "cells": [
  {
   "cell_type": "code",
   "execution_count": 1,
   "metadata": {},
   "outputs": [],
   "source": [
    "import numpy as np\n",
    "import pandas as pd\n",
    "import json\n",
    "import itertools\n",
    "import matplotlib.pyplot as plt\n",
    "\n",
    "from sklearn.feature_extraction.text import TfidfVectorizer\n",
    "from sklearn.cluster import KMeans\n",
    "\n",
    "from sklearn.cluster import MiniBatchKMeans\n",
    "from sklearn.decomposition import PCA\n",
    "from sklearn.manifold import TSNE\n",
    "\n",
    "import nltk\n",
    "from nltk.stem.snowball import SnowballStemmer\n",
    "from nltk.stem.porter import PorterStemmer\n",
    "\n",
    "import re"
   ]
  },
  {
   "cell_type": "markdown",
   "metadata": {},
   "source": [
    "# COVID-19 Research Paper K-Means Clustering"
   ]
  },
  {
   "cell_type": "markdown",
   "metadata": {},
   "source": [
    "- Read in the metadata csv, select only the papers with full texts available.\n",
    "- Split the df into four dfs according to the license type, so its easier to find the corresponding full text file\n",
    "- Drops rows where the \"sha\" corresponds to more than one full text file\n"
   ]
  },
  {
   "cell_type": "code",
   "execution_count": 15,
   "metadata": {
    "scrolled": false
   },
   "outputs": [],
   "source": [
    "\"\"\"Convert metadata.csv to a df_abstracts, which contains the sha and abstracts of every valid paper.\n",
    "-read in metadata.csv to a df\n",
    "-filter out rows without a full text file\n",
    "-filter out rows with multiple corresponding full text files\n",
    "-create df_abstracts, which contains sha and abstracts for all valid papers\n",
    "\"\"\"\n",
    "\n",
    "df = pd.read_csv(\"CORD-19-research-challenge/metadata.csv\")\n",
    "df_with_full = df.loc[df['has_full_text'] == True].drop(columns = 'has_full_text')\n",
    "\n",
    "df_custom_license = df_with_full.loc[df_with_full['full_text_file'].str.match(\"custom_license\")]\n",
    "df_noncomm_use_subset = df_with_full.loc[df_with_full['full_text_file'].str.match(\"noncomm_use_subset\")]\n",
    "df_comm_use_subset = df_with_full.loc[df_with_full['full_text_file'].str.match(\"comm_use_subset\")]\n",
    "df_biorxiv_medrxiv = df_with_full.loc[df_with_full['full_text_file'].str.match(\"biorxiv_medrxiv\")]\n",
    "\n",
    "invalid_rows = []\n",
    "for index, row in df_custom_license.iterrows():\n",
    "    if \";\" in row['sha']:\n",
    "        invalid_rows.append(index)\n",
    "\n",
    "df_custom_license = df_custom_license.drop(invalid_rows)\n",
    "\n",
    "invalid_rows = []\n",
    "for index, row in df_noncomm_use_subset.iterrows():\n",
    "    if \";\" in row['sha']:\n",
    "        invalid_rows.append(index)\n",
    "        \n",
    "df_noncomm_use_subset = df_noncomm_use_subset.drop(invalid_rows)\n",
    "\n",
    "invalid_rows = []\n",
    "for index, row in df_comm_use_subset.iterrows():\n",
    "    if \";\" in row['sha']:\n",
    "        invalid_rows.append(index)\n",
    "        \n",
    "df_comm_use_subset = df_comm_use_subset.drop(invalid_rows)\n",
    "\n",
    "invalid_rows = []\n",
    "for index, row in df_biorxiv_medrxiv.iterrows():\n",
    "    if \";\" in row['sha']:\n",
    "        invalid_rows.append(index)\n",
    "        \n",
    "df_biorxiv_medrxiv = df_biorxiv_medrxiv.drop(invalid_rows)\n",
    "\n",
    "df_all = pd.concat([df_custom_license, df_noncomm_use_subset, df_comm_use_subset, df_biorxiv_medrxiv])\n",
    "\n",
    "df_abstracts = df_all[['sha','abstract']]\n",
    "#df_abstracts"
   ]
  },
  {
   "cell_type": "code",
   "execution_count": 16,
   "metadata": {
    "scrolled": true
   },
   "outputs": [
    {
     "data": {
      "text/html": [
       "<div>\n",
       "<style scoped>\n",
       "    .dataframe tbody tr th:only-of-type {\n",
       "        vertical-align: middle;\n",
       "    }\n",
       "\n",
       "    .dataframe tbody tr th {\n",
       "        vertical-align: top;\n",
       "    }\n",
       "\n",
       "    .dataframe thead th {\n",
       "        text-align: right;\n",
       "    }\n",
       "</style>\n",
       "<table border=\"1\" class=\"dataframe\">\n",
       "  <thead>\n",
       "    <tr style=\"text-align: right;\">\n",
       "      <th></th>\n",
       "      <th>sha</th>\n",
       "      <th>abstract</th>\n",
       "    </tr>\n",
       "  </thead>\n",
       "  <tbody>\n",
       "    <tr>\n",
       "      <td>42763</td>\n",
       "      <td>a1cdea1502a0fd90dbbff6e8a29480d856c03fed</td>\n",
       "      <td>BACKGROUND: Neonatal diarrhea accounts for mor...</td>\n",
       "    </tr>\n",
       "    <tr>\n",
       "      <td>1911</td>\n",
       "      <td>a4f0b6baa85871705a0cfa6eaaad43d4e8316108</td>\n",
       "      <td>Abstract This chapter synthesizes current know...</td>\n",
       "    </tr>\n",
       "    <tr>\n",
       "      <td>40815</td>\n",
       "      <td>8003a720b0a0e15fc535a39d7ae6d7a444a2cb4c</td>\n",
       "      <td>Abstract We evaluated the safety and immunogen...</td>\n",
       "    </tr>\n",
       "    <tr>\n",
       "      <td>12423</td>\n",
       "      <td>3928a133e136a1a11b7d97a047b3aa8500e289b0</td>\n",
       "      <td>NaN</td>\n",
       "    </tr>\n",
       "    <tr>\n",
       "      <td>6775</td>\n",
       "      <td>9c940298ee86fe96bd26a793b6498755794cd254</td>\n",
       "      <td>Abstract Accumulating evidence indicates that ...</td>\n",
       "    </tr>\n",
       "    <tr>\n",
       "      <td>...</td>\n",
       "      <td>...</td>\n",
       "      <td>...</td>\n",
       "    </tr>\n",
       "    <tr>\n",
       "      <td>17390</td>\n",
       "      <td>99a3774ff408724afcda0708fc3c3223c0c74c6a</td>\n",
       "      <td>Small interfering RNAs (siRNAs) are potent mol...</td>\n",
       "    </tr>\n",
       "    <tr>\n",
       "      <td>7870</td>\n",
       "      <td>8ad16be256f6ab318d6c84b1d74159a4831a5b8a</td>\n",
       "      <td>NaN</td>\n",
       "    </tr>\n",
       "    <tr>\n",
       "      <td>27014</td>\n",
       "      <td>76bbd67d210cfbd619123b103b0aa1966857b75a</td>\n",
       "      <td>The People’s Republic of China has nearly the ...</td>\n",
       "    </tr>\n",
       "    <tr>\n",
       "      <td>3121</td>\n",
       "      <td>8348bc04a0ea6bd76d02f992a139ad4869d1f659</td>\n",
       "      <td>Abstract Food security, sustainable agricultur...</td>\n",
       "    </tr>\n",
       "    <tr>\n",
       "      <td>433</td>\n",
       "      <td>07ed860d2125cc4ebdcf936cf1871e2796f22fd9</td>\n",
       "      <td>NaN</td>\n",
       "    </tr>\n",
       "  </tbody>\n",
       "</table>\n",
       "<p>10000 rows × 2 columns</p>\n",
       "</div>"
      ],
      "text/plain": [
       "                                            sha  \\\n",
       "42763  a1cdea1502a0fd90dbbff6e8a29480d856c03fed   \n",
       "1911   a4f0b6baa85871705a0cfa6eaaad43d4e8316108   \n",
       "40815  8003a720b0a0e15fc535a39d7ae6d7a444a2cb4c   \n",
       "12423  3928a133e136a1a11b7d97a047b3aa8500e289b0   \n",
       "6775   9c940298ee86fe96bd26a793b6498755794cd254   \n",
       "...                                         ...   \n",
       "17390  99a3774ff408724afcda0708fc3c3223c0c74c6a   \n",
       "7870   8ad16be256f6ab318d6c84b1d74159a4831a5b8a   \n",
       "27014  76bbd67d210cfbd619123b103b0aa1966857b75a   \n",
       "3121   8348bc04a0ea6bd76d02f992a139ad4869d1f659   \n",
       "433    07ed860d2125cc4ebdcf936cf1871e2796f22fd9   \n",
       "\n",
       "                                                abstract  \n",
       "42763  BACKGROUND: Neonatal diarrhea accounts for mor...  \n",
       "1911   Abstract This chapter synthesizes current know...  \n",
       "40815  Abstract We evaluated the safety and immunogen...  \n",
       "12423                                                NaN  \n",
       "6775   Abstract Accumulating evidence indicates that ...  \n",
       "...                                                  ...  \n",
       "17390  Small interfering RNAs (siRNAs) are potent mol...  \n",
       "7870                                                 NaN  \n",
       "27014  The People’s Republic of China has nearly the ...  \n",
       "3121   Abstract Food security, sustainable agricultur...  \n",
       "433                                                  NaN  \n",
       "\n",
       "[10000 rows x 2 columns]"
      ]
     },
     "execution_count": 16,
     "metadata": {},
     "output_type": "execute_result"
    }
   ],
   "source": [
    "\"\"\"Take sample of rows from df_abstracts to reduce runtime\"\"\"\n",
    "\n",
    "df_abstracts_partial = df_abstracts.sample(n=10000)\n",
    "df_abstracts_partial"
   ]
  },
  {
   "cell_type": "code",
   "execution_count": 17,
   "metadata": {
    "scrolled": true
   },
   "outputs": [
    {
     "data": {
      "text/plain": [
       "list"
      ]
     },
     "execution_count": 17,
     "metadata": {},
     "output_type": "execute_result"
    }
   ],
   "source": [
    "\"\"\"Remove rows with bad input in abstract column\"\"\"\n",
    "\n",
    "abstract_list = df_abstracts_partial[\"abstract\"].values\n",
    "abstract_list = [x for x in abstract_list if str(x) != 'nan']\n",
    "type(abstract_list)"
   ]
  },
  {
   "cell_type": "code",
   "execution_count": 18,
   "metadata": {},
   "outputs": [
    {
     "data": {
      "text/plain": [
       "0"
      ]
     },
     "execution_count": 18,
     "metadata": {},
     "output_type": "execute_result"
    }
   ],
   "source": [
    "\"\"\"Check to make sure all abstract values are strings\"\"\"\n",
    "\n",
    "bad_inputs = 0\n",
    "for i in abstract_list:\n",
    "    if type(i) != str:\n",
    "        bad_inputs += 1\n",
    "bad_inputs"
   ]
  },
  {
   "cell_type": "code",
   "execution_count": 19,
   "metadata": {},
   "outputs": [],
   "source": [
    "\"\"\" Takes in abstract_list, returns abstract_list_stemmed, which contains the same list\n",
    "of strings but with each word converted to reduce variability\n",
    "\"\"\"\n",
    "\n",
    "snowBallStemmer = SnowballStemmer(\"english\")\n",
    "porterStemmer = PorterStemmer()\n",
    "\n",
    "abstract_list_stemmed = []\n",
    "\n",
    "# adapted from http://jonathansoma.com/lede/algorithms-2017/classes/more-text-analysis/counting-and-stemming/\n",
    "def stemming_tokenizer(str_input):\n",
    "    words = re.sub(r\"[^A-Za-z0-9\\-]\", \" \", str_input).lower().split()\n",
    "    words = [snowBallStemmer.stem(word) for word in words]\n",
    "    return words\n",
    "\n",
    "for i in abstract_list:\n",
    "    words_list = stemming_tokenizer(i)\n",
    "    words_paragraph = \"\"\n",
    "    for j in words_list:\n",
    "        words_paragraph = words_paragraph + \" \" + j\n",
    "    abstract_list_stemmed.append(words_paragraph)"
   ]
  },
  {
   "cell_type": "code",
   "execution_count": 20,
   "metadata": {
    "scrolled": true
   },
   "outputs": [],
   "source": [
    "\"\"\"Creares a df of TFIDF vectorized abstracts\n",
    "\n",
    "TF-IDF (term frequency-inverse document frequency) is a statistical\n",
    "measure that evaluates how relevant a word is to a document in a collection.\n",
    "\n",
    "adapted from https://towardsdatascience.com/natural-language-processing-feature-engineering-using-tf-idf-e8b9d00e7e76\n",
    "\n",
    "token_pattern=r'(?u)\\b[A-Za-z]+\\b' filters out non-alphabetical characters\n",
    "\"\"\"\n",
    "\n",
    "vectorizer = TfidfVectorizer(min_df = 5, max_df = 0.95, max_features = 100, stop_words = 'english', token_pattern=r'(?u)\\b[A-Za-z]+\\b')\n",
    "vectors = vectorizer.fit_transform(abstract_list_stemmed)\n",
    "feature_names = vectorizer.get_feature_names()\n",
    "dense = vectors.todense()\n",
    "denselist = dense.tolist()\n",
    "df = pd.DataFrame(denselist, columns=feature_names)"
   ]
  },
  {
   "cell_type": "code",
   "execution_count": 21,
   "metadata": {
    "scrolled": true
   },
   "outputs": [
    {
     "data": {
      "text/plain": [
       "Index(['abstract', 'activ', 'acut', 'analysi', 'anim', 'antibodi', 'assay',\n",
       "       'associ', 'c', 'case', 'caus', 'cell', 'clinic', 'compar', 'conclus',\n",
       "       'control', 'coronavirus', 'cov', 'data', 'day', 'demonstr', 'detect',\n",
       "       'develop', 'differ', 'diseas', 'dure', 'effect', 'emerg', 'express',\n",
       "       'factor', 'function', 'gene', 'genom', 'group', 'health', 'high',\n",
       "       'hospit', 'host', 'howev', 'human', 'identifi', 'immun', 'import',\n",
       "       'includ', 'increas', 'indic', 'induc', 'infect', 'infecti', 'influenza',\n",
       "       'investig', 'isol', 'level', 'method', 'model', 'n', 'new', 'number',\n",
       "       'observ', 'outbreak', 'p', 'pathogen', 'patient', 'pcr', 'posit',\n",
       "       'potenti', 'present', 'protein', 'provid', 'rate', 'relat', 'replic',\n",
       "       'report', 'respiratori', 'respons', 'result', 'risk', 'rna', 'role',\n",
       "       's', 'sampl', 'sequenc', 'sever', 'signific', 'specif', 'strain',\n",
       "       'structur', 'studi', 'suggest', 'target', 'test', 'time', 'transmiss',\n",
       "       'treatment', 'type', 'use', 'vaccin', 'viral', 'virus', 'year'],\n",
       "      dtype='object')"
      ]
     },
     "execution_count": 21,
     "metadata": {},
     "output_type": "execute_result"
    }
   ],
   "source": [
    "\"\"\"100 most relevant features\"\"\"\n",
    "\n",
    "(df.columns)"
   ]
  },
  {
   "cell_type": "code",
   "execution_count": 22,
   "metadata": {
    "scrolled": true
   },
   "outputs": [
    {
     "name": "stdout",
     "output_type": "stream",
     "text": [
      "Fit 2 clusters\n",
      "Fit 4 clusters\n",
      "Fit 6 clusters\n",
      "Fit 8 clusters\n",
      "Fit 10 clusters\n",
      "Fit 12 clusters\n",
      "Fit 14 clusters\n",
      "Fit 16 clusters\n",
      "Fit 18 clusters\n",
      "Fit 20 clusters\n",
      "Fit 22 clusters\n",
      "Fit 24 clusters\n",
      "Fit 26 clusters\n",
      "Fit 28 clusters\n",
      "Fit 30 clusters\n",
      "Fit 32 clusters\n",
      "Fit 34 clusters\n",
      "Fit 36 clusters\n",
      "Fit 38 clusters\n",
      "Fit 40 clusters\n"
     ]
    },
    {
     "data": {
      "image/png": "[encoded data removed]",
      "text/plain": [
       "<Figure size 432x288 with 1 Axes>"
      ]
     },
     "metadata": {
      "needs_background": "light"
     },
     "output_type": "display_data"
    }
   ],
   "source": [
    "\"\"\"Creates an elbow plot to identify the ideal number of clusters based on sum of squared errors\n",
    "\n",
    "copied from https://www.kaggle.com/jbencina/clustering-documents-with-tfidf-and-kmeans\n",
    "\"\"\"\n",
    "\n",
    "def find_optimal_clusters(data, max_k):\n",
    "    iters = range(2, max_k+1, 2)\n",
    "    \n",
    "    sse = []\n",
    "    for k in iters:\n",
    "        sse.append(MiniBatchKMeans(n_clusters=k, init_size=1024, batch_size=2048, random_state=20).fit(data).inertia_)\n",
    "        print('Fit {} clusters'.format(k))\n",
    "        \n",
    "    f, ax = plt.subplots(1, 1)\n",
    "    ax.plot(iters, sse, marker='o')\n",
    "    ax.set_xlabel('Cluster Centers')\n",
    "    ax.set_xticks(iters)\n",
    "    ax.set_xticklabels(iters)\n",
    "    ax.set_ylabel('SSE')\n",
    "    ax.set_title('SSE by Cluster Center Plot')\n",
    "    \n",
    "find_optimal_clusters(df, 40)"
   ]
  },
  {
   "cell_type": "code",
   "execution_count": 10,
   "metadata": {},
   "outputs": [],
   "source": [
    "\"\"\"Displays an example of the TFIDF vector for a single paper\"\"\"\n",
    "\n",
    "row_dict = df.loc[ 0 , : ].to_dict()\n",
    "\n",
    "from collections import OrderedDict\n",
    "\n",
    "dd = OrderedDict(sorted(row_dict.items(), key=lambda x: x[1], reverse=True))\n",
    "#dd"
   ]
  },
  {
   "cell_type": "code",
   "execution_count": null,
   "metadata": {},
   "outputs": [],
   "source": []
  }
 ],
 "metadata": {
  "kernelspec": {
   "display_name": "Python 3",
   "language": "python",
   "name": "python3"
  },
  "language_info": {
   "codemirror_mode": {
    "name": "ipython",
    "version": 3
   },
   "file_extension": ".py",
   "mimetype": "text/x-python",
   "name": "python",
   "nbconvert_exporter": "python",
   "pygments_lexer": "ipython3",
   "version": "3.7.4"
  }
 },
 "nbformat": 4,
 "nbformat_minor": 2
}
